{
 "cells": [
  {
   "cell_type": "markdown",
   "metadata": {},
   "source": [
    "**_Luis Xavier Pérez Miramontes_ _Mechatronics Engineer_**\n",
    "\n",
    "_This little project is thanks to DotCSV tutorial [youtube channel](https://www.youtube.com/watch?v=M5QHwkkHgAA&list=PL-Ogd76BhmcDxef4liOGXGXLL-4h65bs4&index=22 \"youtube channel\")"
   ]
  },
  {
   "cell_type": "markdown",
   "metadata": {},
   "source": [
    "# Neural Network from Scratch"
   ]
  },
  {
   "cell_type": "markdown",
   "metadata": {},
   "source": [
    "In this little project we're going to program a neural network from scratch using python and libraries like numpy, scipy and matplotlib to plot the results and handle datasets.\n",
    "\n",
    "The main element of a neural network is the **neuron**. A neuron is the element that receives values of our data and then processes those values as a ponderated sum. Finally the neuron delivers a more elaborated and complex result.\n",
    "\n",
    "![](https://i.imgur.com/3DMkupgm.png)\n",
    "\n",
    "A Neural Network is the combination of a number of neurons that are organized in different layers. Each layer of neurons process information that will be delivered to the next neural layer and then to the next one and so on. \n",
    "\n",
    "The advatage of this, is that the neural network learns hierarchycal knowledge.\n",
    "\n",
    "![](https://i.imgur.com/EoAVs7mm.png)\n",
    "\n",
    "This is what is called _\"deep learning\"_ because if we have more and more layers, we can generate more complex results.\n"
   ]
  },
  {
   "cell_type": "markdown",
   "metadata": {},
   "source": [
    "## Importing Libraries"
   ]
  },
  {
   "cell_type": "code",
   "execution_count": 6,
   "metadata": {},
   "outputs": [],
   "source": [
    "import numpy as np\n",
    "import scipy as sc\n",
    "import matplotlib.pyplot as plt\n",
    "\n",
    "from sklearn.datasets import make_circles"
   ]
  },
  {
   "cell_type": "markdown",
   "metadata": {},
   "source": [
    "## 1. Creating the Dataset"
   ]
  },
  {
   "cell_type": "markdown",
   "metadata": {},
   "source": [
    "First, we're going to plot the data that we will classify"
   ]
  },
  {
   "cell_type": "code",
   "execution_count": 18,
   "metadata": {
    "scrolled": true
   },
   "outputs": [
    {
     "name": "stdout",
     "output_type": "stream",
     "text": [
      "(500, 1)\n"
     ]
    },
    {
     "data": {
      "image/png": "[encoded data removed]",
      "text/plain": [
       "<Figure size 432x288 with 1 Axes>"
      ]
     },
     "metadata": {
      "needs_background": "light"
     },
     "output_type": "display_data"
    }
   ],
   "source": [
    "# Creating Dataset\n",
    "n = 500  # Number of data rows\n",
    "p = 2    # Number of characteristics that have each row\n",
    "\n",
    "# X is referred to the two parameters that make the two circles\n",
    "# Y is referred to the classes of each circle\n",
    "X, Y = make_circles(n_samples=n, factor=0.5, noise=0.05)\n",
    "\n",
    "Y = Y[:, np.newaxis]\n",
    "\n",
    "print(Y.shape)\n",
    "\n",
    "plt.scatter(X[Y[:, 0] == 0, 0], X[Y[:, 0] == 0, 1], c=\"skyblue\")  #Printing first class (when Y == 0)\n",
    "plt.scatter(X[Y[:, 0] == 1, 0], X[Y[:, 0] == 1, 1], c=\"salmon\")  #Printing second class (when Y == 1)\n",
    "\n",
    "plt.axis(\"equal\")\n",
    "plt.show()"
   ]
  },
  {
   "cell_type": "markdown",
   "metadata": {},
   "source": [
    "## 2. Creating the Neural Network Structure"
   ]
  },
  {
   "cell_type": "markdown",
   "metadata": {},
   "source": [
    "Now we are going to create a class for the structure of a neural layer. This class will contain the number of connections that the neural layer has with the previous layer, the number of neurons of the actual layer and the activation function the layer will use."
   ]
  },
  {
   "cell_type": "code",
   "execution_count": 19,
   "metadata": {},
   "outputs": [],
   "source": [
    "# Neural Layer class\n",
    "class neural_layer():\n",
    "    \n",
    "    def __init__(self, number_connections, number_neurons, act_func):\n",
    "        \n",
    "        self.act_func = act_func\n",
    "        \n",
    "        self.b = np.random.rand(1, number_neurons) * 2 - 1\n",
    "        self.W = np.random.rand(number_connections, number_neurons) * 2 - 1\n",
    "        "
   ]
  },
  {
   "cell_type": "markdown",
   "metadata": {},
   "source": [
    "## 3. The Activation Function"
   ]
  },
  {
   "cell_type": "markdown",
   "metadata": {},
   "source": [
    "The activation function is the one who receives the ponderated sum of the parameters (that is done inside the neuron) and then it introduces no-lineality to our neural network and thus it will help to connect more neurons having a no-linear result.\n",
    "\n",
    "**The effect of the activation function is that it distorts the plane generated by the neuron.**"
   ]
  },
  {
   "cell_type": "markdown",
   "metadata": {},
   "source": [
    "In this case, we're going to use the simoid function as our activation function.\n",
    "\n",
    "The Sigmoid function is a type of activation function that turns all the received data into a range from 0 to 1 with a particular form of an \"S\".\n",
    "\n",
    "![](https://i.imgur.com/ZWaUUDum.png)"
   ]
  },
  {
   "cell_type": "code",
   "execution_count": 20,
   "metadata": {},
   "outputs": [],
   "source": [
    "# Activation Function (sigmoid) and its derivative\n",
    "sigm = (\n",
    "        lambda x: 1 / (1 + np.e ** (-x)),\n",
    "        lambda x: x * (1 - x)\n",
    "       )"
   ]
  },
  {
   "cell_type": "markdown",
   "metadata": {},
   "source": [
    "## 4. Creating the neural network"
   ]
  },
  {
   "cell_type": "code",
   "execution_count": 30,
   "metadata": {},
   "outputs": [],
   "source": [
    "def create_nn(topology, act_f):\n",
    "    \n",
    "    nn = []\n",
    "    \n",
    "    # Generating each layer and appending to the neural network\n",
    "    for l, layer in enumerate(topology[:-1]):\n",
    "        nn.append(neural_layer(topology[l], topology[l+1], act_f))\n",
    "    \n",
    "    return nn\n",
    "\n",
    "\n",
    "topology = [p, 4, 8, 1]  # Topology of the neural network (two hidden layers an one as an output)\n",
    "neural_net = create_nn(topology, sigm)"
   ]
  },
  {
   "cell_type": "markdown",
   "metadata": {},
   "source": [
    "## 5. Training the Neural Network"
   ]
  },
  {
   "cell_type": "markdown",
   "metadata": {},
   "source": [
    "To train our neural network we must to pass first random values to the parameters of each layer, make a foward pass with all the values of the data (X1, X2) and try to make a prediction (Yp), and then comparing that result with the real one (Yr).\n",
    "\n",
    "Once we did that, we have to calculate the error with our cost function and then make the **_Backpropagation_** algorithm to calculate all the necessary derivatives of the cost function with each layer and finally make all the derivatives of the cost function with all the parameters (W) and with the baias term (b).\n",
    "\n",
    "![](https://i.imgur.com/KQtPjoNl.png)\n",
    "\n",
    "After we have calculated all the derivatives, we apply the **_Gradient Descent_** algorithm to recalculate all the parameters and bias terms of each layer.\n",
    "\n",
    "![](https://i.imgur.com/uFfJtijm.png)\n",
    "\n",
    "We have to do this process iteratively until we minimize our cost function :)"
   ]
  },
  {
   "cell_type": "code",
   "execution_count": 31,
   "metadata": {},
   "outputs": [],
   "source": [
    "# Cost function and its derivative\n",
    "l2_cost = (\n",
    "            lambda Yp, Yr: np.mean((Yp - Yr) ** 2),\n",
    "            lambda Yp, Yr: (Yp - Yr) \n",
    "           )\n",
    "\n",
    "\n",
    "def train(neural_net, X, Y, l2_cost, lr=0.5, train=True):\n",
    "    \n",
    "    # output = [(z0, a0), (z1, a1) ... ]\n",
    "    # Creating an array that will contain the output of each layer of the nn. (The first layer we add is the one with the characteristics X1 and X2)\n",
    "    output = [(None, X)]\n",
    "    \n",
    "    # Forward pass\n",
    "    for l, layer in enumerate(neural_net):\n",
    "        z = output[-1][1] @ neural_net[l].W + neural_net[l].b  # Making the ponderated sum with the output values of the last layer with the parameters of the next layer\n",
    "        a = neural_net[l].act_func[0](z)  # Passing that ponderated sum to the activation function of the layer\n",
    "        \n",
    "        output.append((z, a))\n",
    "\n",
    "    if train:\n",
    "        # Backward pass\n",
    "        deltas = []       # Array that will contain all the partial derivatives of each layer (delta)\n",
    "        \n",
    "        for l in reversed(range(0, len(neural_net))):\n",
    "            z = output[l+1][0]  # We add 1 to the index because we have an extra layer, which is the characteristics \"layer\" [(None, X)...]\n",
    "            a = output[l+1][1]\n",
    "            \n",
    "            if l == len(neural_net) - 1:\n",
    "                # Calculating delta of last layer\n",
    "                deltas.insert(0, l2_cost[1](a, Y) * neural_net[l].act_func[1](a))\n",
    "\n",
    "            else:\n",
    "                # Calculating delta of previous layer\n",
    "                deltas.insert(0, deltas[0] @ _W.T * neural_net[l].act_func[1](a))\n",
    "            \n",
    "            _W = neural_net[l].W\n",
    "            \n",
    "            # Gradient descent\n",
    "            neural_net[l].b = neural_net[l].b - np.mean(deltas[0], axis=0, keepdims=True) * lr\n",
    "            neural_net[l].W = neural_net[l].W - output[l][1].T @ deltas[0] * lr\n",
    "            \n",
    "    return output[-1][1]  # Returning the predicted value\n"
   ]
  },
  {
   "cell_type": "markdown",
   "metadata": {},
   "source": [
    "## 6. Plotting the error and how the neural network classify the data"
   ]
  },
  {
   "cell_type": "code",
   "execution_count": 32,
   "metadata": {},
   "outputs": [
    {
     "data": {
      "image/png": "[encoded data removed]",
      "text/plain": [
       "<Figure size 432x288 with 1 Axes>"
      ]
     },
     "metadata": {
      "needs_background": "light"
     },
     "output_type": "display_data"
    },
    {
     "data": {
      "image/png": "[encoded data removed]",
      "text/plain": [
       "<Figure size 432x288 with 1 Axes>"
      ]
     },
     "metadata": {
      "needs_background": "light"
     },
     "output_type": "display_data"
    }
   ],
   "source": [
    "import time\n",
    "from IPython.display import clear_output\n",
    "\n",
    "# Saving different losses to see the improvement of the nn.\n",
    "loss = []\n",
    "\n",
    "for i in range(3000):\n",
    "    # Training the Neural Network\n",
    "    pY = train(neural_net, X, Y, l2_cost, lr=0.015)\n",
    "    \n",
    "    # After 25 iterations, show the error and the data classification plot\n",
    "    if i % 25 == 0:\n",
    "        loss.append(l2_cost[0](pY, Y))\n",
    "        \n",
    "        res = 50\n",
    "        \n",
    "        _x0 = np.linspace(-1.5, 1.5, res)  # Forms an array that goes from -1.5 to 1.5 with 50 values\n",
    "        _x1 = np.linspace(-1.5, 1.5, res)\n",
    "        \n",
    "        _Y = np.zeros((res, res))\n",
    "        \n",
    "        # Drawing the two areas to classify the data points\n",
    "        for i0, x0 in enumerate(_x0):\n",
    "            for i1, x1 in enumerate(_x1):\n",
    "                _Y[i0, i1] = train(neural_net, np.array([[x0, x1]]), Y, l2_cost, train=False)[0][0]\n",
    "        \n",
    "        plt.pcolormesh(_x0, _x1, _Y, cmap=\"coolwarm\")\n",
    "        plt.axis(\"equal\")\n",
    "        \n",
    "        plt.scatter(X[Y[:, 0] == 0, 0], X[Y[:, 0] == 0, 1], c=\"skyblue\")  #Printing first class (when Y == 0)\n",
    "        plt.scatter(X[Y[:, 0] == 1, 0], X[Y[:, 0] == 1, 1], c=\"salmon\")  #Printing second class (when Y == 1)\n",
    "\n",
    "        clear_output(wait=True)\n",
    "        plt.show()\n",
    "        plt.plot(range(len(loss)), loss)\n",
    "        plt.show()\n",
    "        time.sleep(0.5)"
   ]
  }
 ],
 "metadata": {
  "kernelspec": {
   "display_name": "Python 3",
   "language": "python",
   "name": "python3"
  },
  "language_info": {
   "codemirror_mode": {
    "name": "ipython",
    "version": 3
   },
   "file_extension": ".py",
   "mimetype": "text/x-python",
   "name": "python",
   "nbconvert_exporter": "python",
   "pygments_lexer": "ipython3",
   "version": "3.7.6"
  }
 },
 "nbformat": 4,
 "nbformat_minor": 4
}
